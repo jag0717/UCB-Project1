{
 "cells": [
  {
   "cell_type": "code",
   "execution_count": null,
   "metadata": {},
   "outputs": [],
   "source": [
    "# dependencies\n",
    "import pandas as pd\n",
    "import os\n",
    "import matplotlib.pyplot as plt"
   ]
  },
  {
   "cell_type": "code",
   "execution_count": null,
   "metadata": {},
   "outputs": [],
   "source": [
    "# load excel file\n",
    "file_path = os.path.join('raw_data','2007-2017-PIT-HUD.xlsx')\n",
    "# read the excel file\n",
    "df  = pd.read_excel(file_path, sheet_name=None, ignore_index=True)\n",
    "\n",
    "# concatenate all worksheets\n",
    "cdf = pd.concat(df.values())\n",
    "\n",
    "# display consolidated data\n",
    "cdf.head()"
   ]
  },
  {
   "cell_type": "code",
   "execution_count": null,
   "metadata": {},
   "outputs": [],
   "source": [
    "# drop columns that have NaN\n",
    "cdf.dropna(axis=1, how='any')\n",
    "\n",
    "# Add State and County\n",
    "cdf[\"State\"] = cdf[\"CoC Number\"].apply(lambda x: x.split('-')[0])\n",
    "cdf[\"County\"] = cdf[\"CoC Name\"].apply(lambda x: x.split('CoC')[0])\n",
    "\n",
    "cdf[\"County\"] = cdf[\"County\"].apply(lambda x: x.replace(\"County\",''))\n",
    "cdf[\"County\"] = cdf[\"County\"].apply(lambda x: x.replace(\"City\",''))\n",
    "cdf[\"County\"] = cdf[\"County\"].apply(lambda x: x.replace(\"&\",''))\n",
    "cdf[\"County\"] = cdf[\"County\"].apply(lambda x: x.replace(\"Continuum of Care\",''))\n",
    "cdf[\"County\"] = cdf[\"County\"].apply(lambda x: x.replace(\"Balance of State\",''))\n",
    "cdf[\"County\"] = cdf[\"County\"].apply(lambda x: x.replace(\"Metropolitan Denver Homeless Initiative\",'Denver'))\n",
    "\n",
    "cdf[\"County\"] = cdf[\"County\"].apply(lambda x: x.replace(\"Salt Lake\",'Salt Lake City'))\n",
    "\n",
    "cdf[\"County\"] = cdf[\"County\"].apply(lambda x: x.replace(\"District of Columbia\",'Washington'))\n",
    "cdf[\"County\"] = cdf[\"County\"].apply(lambda x: x.split('/')[0])\n",
    "cdf[\"County\"] = cdf[\"County\"].apply(lambda x: x.strip())\n",
    "\n",
    "cdf[\"CityState\"] = cdf[\"County\"] + \", \" + cdf[\"State\"]\n",
    "\n",
    "# Select columns of Interest\n",
    "cdf = cdf[[ 'Year','CityState', 'State', 'County', 'Total Homeless', 'Sheltered Homeless', 'Unsheltered Homeless',\n",
    "       'Homeless Individuals', 'Sheltered Homeless Individuals', 'Unsheltered Homeless Individuals', \n",
    "       'Homeless People in Families', 'Sheltered Homeless People in Families', 'Unsheltered Homeless People in Families',\n",
    "       'Chronically Homeless Individuals', 'Sheltered Chronically Homeless Individuals', \n",
    "       'Unsheltered Chronically Homeless Individuals' ]]\n",
    "\n",
    "# set the index to Year\n",
    "cdf = cdf.set_index(['Year'])\n",
    "\n",
    "# Check record count before writing data into a csv file\n",
    "cdf\n",
    "#cdf.count()"
   ]
  },
  {
   "cell_type": "code",
   "execution_count": null,
   "metadata": {},
   "outputs": [],
   "source": [
    "cdf.to_csv(\"HUD_Consol_Data.csv\")"
   ]
  },
  {
   "cell_type": "code",
   "execution_count": null,
   "metadata": {},
   "outputs": [],
   "source": [
    "# Filter data based on Cities of Interest\n",
    "Cities = [\"New York\", \"Philadelphia\", \"Boston\", \"Washington\", \"Chicago\", \"Minneapolis\",\n",
    "        \"Denver\", \"Salt Lake City\", \"Seattle\", \"Los Angeles\", \"San Francisco\", \"Miami\", \n",
    "        \"Charlotte\", \"Atlanta\", \"Detroit\", \"Anchorage\", \"Honolulu\", \"Indianapolis\"]\n",
    "\n",
    "hud_cities_data = cdf[cdf[\"County\"].isin(Cities)]\n",
    "hud_cities_data = hud_cities_data.reset_index()\n",
    "\n",
    "hud_cities_data = hud_cities_data.sort_values(by=[\"CityState\",\"Year\"])\n",
    "\n",
    "hud_cities_data = hud_cities_data[hud_cities_data.CityState != \"Washington, WA\"]\n",
    "\n",
    "hud_cities_data = hud_cities_data[[ 'Year','CityState', 'Total Homeless']]\n",
    "\n",
    "hud_cities_data['CityStateYear'] = hud_cities_data[['CityState','Year']].apply(lambda x: ' '.join(x.astype(str)), axis=1)\n",
    "\n",
    "hud_cities_data = hud_cities_data.set_index(['Year'])\n",
    "\n",
    "hud_cities_data.head()"
   ]
  },
  {
   "cell_type": "code",
   "execution_count": null,
   "metadata": {},
   "outputs": [],
   "source": [
    "zillowdf = pd.read_csv('18_zillow_selected_cities_mean.csv')\n",
    "zillowdf = zillowdf[['CityState','Year','ZHVIPerSqft_AllHomes']]\n",
    "zillowdf['Year'] = zillowdf['Year'].astype(str)\n",
    "zillowdf['CityStateYear'] = zillowdf[['CityState','Year']].apply(lambda x: ' '.join(x.astype(str)), axis=1)\n",
    "\n",
    "zillowdf.head()"
   ]
  },
  {
   "cell_type": "code",
   "execution_count": null,
   "metadata": {},
   "outputs": [],
   "source": [
    "new_df = pd.merge(hud_cities_data, zillowdf, on='CityStateYear', how='outer')\n",
    "#new_df['Year'] = new_df['Year'].astype(str)\n",
    "new_df.head()"
   ]
  },
  {
   "cell_type": "code",
   "execution_count": null,
   "metadata": {},
   "outputs": [],
   "source": [
    "selected_new_df = new_df[new_df.CityState_x == \"San Francisco, CA\"]\n",
    "\n",
    "#ax = selected_new_df[['Year', 'ZHVIPerSqft_AllHomes']].plot(x='Year', linestyle='-', marker='o')\n",
    "#selected_new_df[['Year', 'Total Homeless']].plot(x='Year', kind='bar', ax=ax)\n",
    "\n",
    "fig, ax = plt.subplots()\n",
    "\n",
    "ax2 = ax.twinx()\n",
    "\n",
    "ax.bar(selected_new_df['Year'], selected_new_df[\"Total Homeless\"], color=(190/255,190/255,190/255,0.7), label='Total Homeless')\n",
    "\n",
    "ax2.plot(selected_new_df['Year'], selected_new_df[\"ZHVIPerSqft_AllHomes\"], color='green', label='ZHVIPerSqft_AllHomes')\n",
    "\n",
    "ax.set_xticklabels(selected_new_df['Year'])\n",
    "\n",
    "#ax.legend(loc='best')\n",
    "ax2.legend(loc='best')\n",
    "\n",
    "plt.show()"
   ]
  },
  {
   "cell_type": "code",
   "execution_count": null,
   "metadata": {
    "scrolled": false
   },
   "outputs": [],
   "source": [
    "selected_new_df = new_df[new_df.CityState_x == \"Los Angeles, CA\"]\n",
    "\n",
    "#ax = selected_new_df[['Year', 'ZHVIPerSqft_AllHomes']].plot(x='Year', linestyle='-', marker='o')\n",
    "#selected_new_df[['Year', 'Total Homeless']].plot(x='Year', kind='bar', ax=ax)\n",
    "\n",
    "fig, ax = plt.subplots()\n",
    "\n",
    "ax2 = ax.twinx()\n",
    "\n",
    "ax.bar(selected_new_df['Year'], selected_new_df[\"Total Homeless\"], color=(190/255,190/255,190/255,0.7), label='Total Homeless')\n",
    "\n",
    "ax2.plot(selected_new_df['Year'], selected_new_df[\"ZHVIPerSqft_AllHomes\"], color='green', label='ZHVIPerSqft_AllHomes')\n",
    "\n",
    "ax.set_xticklabels(selected_new_df['Year'])\n",
    "\n",
    "#ax.legend(loc='best')\n",
    "ax2.legend(loc='best')\n",
    "\n",
    "plt.show()"
   ]
  },
  {
   "cell_type": "code",
   "execution_count": null,
   "metadata": {},
   "outputs": [],
   "source": [
    "selected_new_df = new_df[new_df.CityState_x == \"New York, NY\"]\n",
    "\n",
    "#ax = selected_new_df[['Year', 'ZHVIPerSqft_AllHomes']].plot(x='Year', linestyle='-', marker='o')\n",
    "#selected_new_df[['Year', 'Total Homeless']].plot(x='Year', kind='bar', ax=ax)\n",
    "\n",
    "fig, ax = plt.subplots()\n",
    "\n",
    "ax2 = ax.twinx()\n",
    "\n",
    "ax.bar(selected_new_df['Year'], selected_new_df[\"Total Homeless\"], color=(190/255,190/255,190/255,0.7), label='Total Homeless')\n",
    "\n",
    "ax2.plot(selected_new_df['Year'], selected_new_df[\"ZHVIPerSqft_AllHomes\"], color='green', label='ZHVIPerSqft_AllHomes')\n",
    "\n",
    "ax.set_xticklabels(selected_new_df['Year'])\n",
    "\n",
    "#ax.legend(loc='best')\n",
    "ax2.legend(loc='best')\n",
    "\n",
    "plt.show()"
   ]
  },
  {
   "cell_type": "code",
   "execution_count": null,
   "metadata": {},
   "outputs": [],
   "source": []
  }
 ],
 "metadata": {
  "kernelspec": {
   "display_name": "Python 3",
   "language": "python",
   "name": "python3"
  },
  "language_info": {
   "codemirror_mode": {
    "name": "ipython",
    "version": 3
   },
   "file_extension": ".py",
   "mimetype": "text/x-python",
   "name": "python",
   "nbconvert_exporter": "python",
   "pygments_lexer": "ipython3",
   "version": "3.6.3"
  }
 },
 "nbformat": 4,
 "nbformat_minor": 2
}
