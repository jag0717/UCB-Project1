{
 "cells": [
  {
   "cell_type": "code",
   "execution_count": 1,
   "metadata": {},
   "outputs": [],
   "source": [
    "# dependencies\n",
    "import pandas as pd\n",
    "import os\n",
    "import matplotlib.pyplot as plt"
   ]
  },
  {
   "cell_type": "code",
   "execution_count": 2,
   "metadata": {},
   "outputs": [],
   "source": [
    "# load excel file\n",
    "file_path = os.path.join('..','raw_data','2007-2017-PIT-HUD.xlsx')\n",
    "# read the excel file\n",
    "df  = pd.read_excel(file_path, sheet_name=None, ignore_index=True)\n",
    "\n",
    "# concatenate all worksheets\n",
    "cdf = pd.concat(df.values())\n",
    "\n",
    "# display consolidated data\n",
    "cdf.head()\n",
    "\n",
    "cdf.to_csv(\"HUD_Consol_Data_before_clean.csv\")"
   ]
  },
  {
   "cell_type": "code",
   "execution_count": 3,
   "metadata": {},
   "outputs": [
    {
     "data": {
      "text/plain": [
       "CityState                                       4358\n",
       "State                                           4358\n",
       "County                                          4358\n",
       "Total Homeless                                  4358\n",
       "Sheltered Homeless                              4358\n",
       "Unsheltered Homeless                            4358\n",
       "Homeless Individuals                            4358\n",
       "Sheltered Homeless Individuals                  4358\n",
       "Unsheltered Homeless Individuals                4358\n",
       "Homeless People in Families                     4358\n",
       "Sheltered Homeless People in Families           4358\n",
       "Unsheltered Homeless People in Families         4358\n",
       "Chronically Homeless Individuals                4358\n",
       "Sheltered Chronically Homeless Individuals      4358\n",
       "Unsheltered Chronically Homeless Individuals    4358\n",
       "dtype: int64"
      ]
     },
     "execution_count": 3,
     "metadata": {},
     "output_type": "execute_result"
    }
   ],
   "source": [
    "# drop columns that have NaN\n",
    "cdf.dropna(axis=1, how='any')\n",
    "\n",
    "# Add State and County\n",
    "cdf[\"State\"] = cdf[\"CoC Number\"].apply(lambda x: x.split('-')[0])\n",
    "cdf[\"County\"] = cdf[\"CoC Name\"].apply(lambda x: x.split('CoC')[0])\n",
    "\n",
    "cdf[\"County\"] = cdf[\"County\"].apply(lambda x: x.replace(\"County\",''))\n",
    "cdf[\"County\"] = cdf[\"County\"].apply(lambda x: x.replace(\"City\",''))\n",
    "cdf[\"County\"] = cdf[\"County\"].apply(lambda x: x.replace(\"&\",''))\n",
    "cdf[\"County\"] = cdf[\"County\"].apply(lambda x: x.replace(\"Continuum of Care\",''))\n",
    "cdf[\"County\"] = cdf[\"County\"].apply(lambda x: x.replace(\"Balance of State\",''))\n",
    "cdf[\"County\"] = cdf[\"County\"].apply(lambda x: x.replace(\"Metropolitan Denver Homeless Initiative\",'Denver'))\n",
    "\n",
    "cdf[\"County\"] = cdf[\"County\"].apply(lambda x: x.replace(\"Salt Lake\",'Salt Lake City'))\n",
    "\n",
    "cdf[\"County\"] = cdf[\"County\"].apply(lambda x: x.replace(\"District of Columbia\",'Washington'))\n",
    "cdf[\"County\"] = cdf[\"County\"].apply(lambda x: x.split('/')[0])\n",
    "cdf[\"County\"] = cdf[\"County\"].apply(lambda x: x.strip())\n",
    "\n",
    "cdf[\"CityState\"] = cdf[\"County\"] + \", \" + cdf[\"State\"]\n",
    "\n",
    "# Select columns of Interest\n",
    "cdf = cdf[[ 'Year','CityState', 'State', 'County', 'Total Homeless', 'Sheltered Homeless', 'Unsheltered Homeless',\n",
    "       'Homeless Individuals', 'Sheltered Homeless Individuals', 'Unsheltered Homeless Individuals', \n",
    "       'Homeless People in Families', 'Sheltered Homeless People in Families', 'Unsheltered Homeless People in Families',\n",
    "       'Chronically Homeless Individuals', 'Sheltered Chronically Homeless Individuals', \n",
    "       'Unsheltered Chronically Homeless Individuals' ]]\n",
    "\n",
    "# set the index to Year\n",
    "cdf = cdf.set_index(['Year'])\n",
    "\n",
    "# Check record count before writing data into a csv file\n",
    "\n",
    "cdf.count()"
   ]
  },
  {
   "cell_type": "code",
   "execution_count": 4,
   "metadata": {},
   "outputs": [],
   "source": [
    "cdf.to_csv(\"HUD_Consol_Data.csv\")"
   ]
  },
  {
   "cell_type": "code",
   "execution_count": 5,
   "metadata": {},
   "outputs": [
    {
     "data": {
      "text/html": [
       "<div>\n",
       "<style scoped>\n",
       "    .dataframe tbody tr th:only-of-type {\n",
       "        vertical-align: middle;\n",
       "    }\n",
       "\n",
       "    .dataframe tbody tr th {\n",
       "        vertical-align: top;\n",
       "    }\n",
       "\n",
       "    .dataframe thead th {\n",
       "        text-align: right;\n",
       "    }\n",
       "</style>\n",
       "<table border=\"1\" class=\"dataframe\">\n",
       "  <thead>\n",
       "    <tr style=\"text-align: right;\">\n",
       "      <th></th>\n",
       "      <th>CityState</th>\n",
       "      <th>Total Homeless</th>\n",
       "      <th>CityStateYear</th>\n",
       "    </tr>\n",
       "    <tr>\n",
       "      <th>Year</th>\n",
       "      <th></th>\n",
       "      <th></th>\n",
       "      <th></th>\n",
       "    </tr>\n",
       "  </thead>\n",
       "  <tbody>\n",
       "    <tr>\n",
       "      <th>2007</th>\n",
       "      <td>Anchorage, AK</td>\n",
       "      <td>974</td>\n",
       "      <td>Anchorage, AK 2007</td>\n",
       "    </tr>\n",
       "    <tr>\n",
       "      <th>2008</th>\n",
       "      <td>Anchorage, AK</td>\n",
       "      <td>1023</td>\n",
       "      <td>Anchorage, AK 2008</td>\n",
       "    </tr>\n",
       "    <tr>\n",
       "      <th>2009</th>\n",
       "      <td>Anchorage, AK</td>\n",
       "      <td>1267</td>\n",
       "      <td>Anchorage, AK 2009</td>\n",
       "    </tr>\n",
       "    <tr>\n",
       "      <th>2010</th>\n",
       "      <td>Anchorage, AK</td>\n",
       "      <td>1231</td>\n",
       "      <td>Anchorage, AK 2010</td>\n",
       "    </tr>\n",
       "    <tr>\n",
       "      <th>2011</th>\n",
       "      <td>Anchorage, AK</td>\n",
       "      <td>1223</td>\n",
       "      <td>Anchorage, AK 2011</td>\n",
       "    </tr>\n",
       "  </tbody>\n",
       "</table>\n",
       "</div>"
      ],
      "text/plain": [
       "          CityState Total Homeless       CityStateYear\n",
       "Year                                                  \n",
       "2007  Anchorage, AK            974  Anchorage, AK 2007\n",
       "2008  Anchorage, AK           1023  Anchorage, AK 2008\n",
       "2009  Anchorage, AK           1267  Anchorage, AK 2009\n",
       "2010  Anchorage, AK           1231  Anchorage, AK 2010\n",
       "2011  Anchorage, AK           1223  Anchorage, AK 2011"
      ]
     },
     "execution_count": 5,
     "metadata": {},
     "output_type": "execute_result"
    }
   ],
   "source": [
    "# Filter data based on Cities of Interest\n",
    "Cities = [\"New York\", \"Philadelphia\", \"Boston\", \"Washington\", \"Chicago\", \"Minneapolis\",\n",
    "        \"Denver\", \"Salt Lake City\", \"Seattle\", \"Los Angeles\", \"San Francisco\", \"Miami\", \n",
    "        \"Charlotte\", \"Atlanta\", \"Detroit\", \"Anchorage\", \"Honolulu\", \"Indianapolis\"]\n",
    "\n",
    "hud_cities_data = cdf[cdf[\"County\"].isin(Cities)]\n",
    "hud_cities_data = hud_cities_data.reset_index()\n",
    "\n",
    "hud_cities_data = hud_cities_data.sort_values(by=[\"CityState\",\"Year\"])\n",
    "\n",
    "hud_cities_data = hud_cities_data[hud_cities_data.CityState != \"Washington, WA\"]\n",
    "\n",
    "hud_cities_data = hud_cities_data[[ 'Year','CityState', 'Total Homeless']]\n",
    "\n",
    "hud_cities_data['CityStateYear'] = hud_cities_data[['CityState','Year']].apply(lambda x: ' '.join(x.astype(str)), axis=1)\n",
    "\n",
    "hud_cities_data = hud_cities_data.set_index(['Year'])\n",
    "\n",
    "hud_cities_data.head()"
   ]
  },
  {
   "cell_type": "code",
   "execution_count": 6,
   "metadata": {},
   "outputs": [
    {
     "data": {
      "text/html": [
       "<div>\n",
       "<style scoped>\n",
       "    .dataframe tbody tr th:only-of-type {\n",
       "        vertical-align: middle;\n",
       "    }\n",
       "\n",
       "    .dataframe tbody tr th {\n",
       "        vertical-align: top;\n",
       "    }\n",
       "\n",
       "    .dataframe thead th {\n",
       "        text-align: right;\n",
       "    }\n",
       "</style>\n",
       "<table border=\"1\" class=\"dataframe\">\n",
       "  <thead>\n",
       "    <tr style=\"text-align: right;\">\n",
       "      <th></th>\n",
       "      <th>CityState</th>\n",
       "      <th>Year</th>\n",
       "      <th>ZHVIPerSqft_AllHomes</th>\n",
       "      <th>CityStateYear</th>\n",
       "    </tr>\n",
       "  </thead>\n",
       "  <tbody>\n",
       "    <tr>\n",
       "      <th>0</th>\n",
       "      <td>Anchorage, AK</td>\n",
       "      <td>2007</td>\n",
       "      <td>201.333333</td>\n",
       "      <td>Anchorage, AK 2007</td>\n",
       "    </tr>\n",
       "    <tr>\n",
       "      <th>1</th>\n",
       "      <td>Anchorage, AK</td>\n",
       "      <td>2008</td>\n",
       "      <td>199.500000</td>\n",
       "      <td>Anchorage, AK 2008</td>\n",
       "    </tr>\n",
       "    <tr>\n",
       "      <th>2</th>\n",
       "      <td>Anchorage, AK</td>\n",
       "      <td>2009</td>\n",
       "      <td>185.416667</td>\n",
       "      <td>Anchorage, AK 2009</td>\n",
       "    </tr>\n",
       "    <tr>\n",
       "      <th>3</th>\n",
       "      <td>Anchorage, AK</td>\n",
       "      <td>2010</td>\n",
       "      <td>175.333333</td>\n",
       "      <td>Anchorage, AK 2010</td>\n",
       "    </tr>\n",
       "    <tr>\n",
       "      <th>4</th>\n",
       "      <td>Anchorage, AK</td>\n",
       "      <td>2011</td>\n",
       "      <td>173.500000</td>\n",
       "      <td>Anchorage, AK 2011</td>\n",
       "    </tr>\n",
       "  </tbody>\n",
       "</table>\n",
       "</div>"
      ],
      "text/plain": [
       "       CityState  Year  ZHVIPerSqft_AllHomes       CityStateYear\n",
       "0  Anchorage, AK  2007            201.333333  Anchorage, AK 2007\n",
       "1  Anchorage, AK  2008            199.500000  Anchorage, AK 2008\n",
       "2  Anchorage, AK  2009            185.416667  Anchorage, AK 2009\n",
       "3  Anchorage, AK  2010            175.333333  Anchorage, AK 2010\n",
       "4  Anchorage, AK  2011            173.500000  Anchorage, AK 2011"
      ]
     },
     "execution_count": 6,
     "metadata": {},
     "output_type": "execute_result"
    }
   ],
   "source": [
    "zillowdf = pd.read_csv('18_zillow_selected_cities_mean.csv')\n",
    "zillowdf = zillowdf[['CityState','Year','ZHVIPerSqft_AllHomes']]\n",
    "zillowdf['Year'] = zillowdf['Year'].astype(str)\n",
    "zillowdf['CityStateYear'] = zillowdf[['CityState','Year']].apply(lambda x: ' '.join(x.astype(str)), axis=1)\n",
    "\n",
    "zillowdf.head()"
   ]
  },
  {
   "cell_type": "code",
   "execution_count": 7,
   "metadata": {},
   "outputs": [
    {
     "data": {
      "text/html": [
       "<div>\n",
       "<style scoped>\n",
       "    .dataframe tbody tr th:only-of-type {\n",
       "        vertical-align: middle;\n",
       "    }\n",
       "\n",
       "    .dataframe tbody tr th {\n",
       "        vertical-align: top;\n",
       "    }\n",
       "\n",
       "    .dataframe thead th {\n",
       "        text-align: right;\n",
       "    }\n",
       "</style>\n",
       "<table border=\"1\" class=\"dataframe\">\n",
       "  <thead>\n",
       "    <tr style=\"text-align: right;\">\n",
       "      <th></th>\n",
       "      <th>CityState_x</th>\n",
       "      <th>Total Homeless</th>\n",
       "      <th>CityStateYear</th>\n",
       "      <th>CityState_y</th>\n",
       "      <th>Year</th>\n",
       "      <th>ZHVIPerSqft_AllHomes</th>\n",
       "    </tr>\n",
       "  </thead>\n",
       "  <tbody>\n",
       "    <tr>\n",
       "      <th>0</th>\n",
       "      <td>Anchorage, AK</td>\n",
       "      <td>974</td>\n",
       "      <td>Anchorage, AK 2007</td>\n",
       "      <td>Anchorage, AK</td>\n",
       "      <td>2007</td>\n",
       "      <td>201.333333</td>\n",
       "    </tr>\n",
       "    <tr>\n",
       "      <th>1</th>\n",
       "      <td>Anchorage, AK</td>\n",
       "      <td>1023</td>\n",
       "      <td>Anchorage, AK 2008</td>\n",
       "      <td>Anchorage, AK</td>\n",
       "      <td>2008</td>\n",
       "      <td>199.500000</td>\n",
       "    </tr>\n",
       "    <tr>\n",
       "      <th>2</th>\n",
       "      <td>Anchorage, AK</td>\n",
       "      <td>1267</td>\n",
       "      <td>Anchorage, AK 2009</td>\n",
       "      <td>Anchorage, AK</td>\n",
       "      <td>2009</td>\n",
       "      <td>185.416667</td>\n",
       "    </tr>\n",
       "    <tr>\n",
       "      <th>3</th>\n",
       "      <td>Anchorage, AK</td>\n",
       "      <td>1231</td>\n",
       "      <td>Anchorage, AK 2010</td>\n",
       "      <td>Anchorage, AK</td>\n",
       "      <td>2010</td>\n",
       "      <td>175.333333</td>\n",
       "    </tr>\n",
       "    <tr>\n",
       "      <th>4</th>\n",
       "      <td>Anchorage, AK</td>\n",
       "      <td>1223</td>\n",
       "      <td>Anchorage, AK 2011</td>\n",
       "      <td>Anchorage, AK</td>\n",
       "      <td>2011</td>\n",
       "      <td>173.500000</td>\n",
       "    </tr>\n",
       "  </tbody>\n",
       "</table>\n",
       "</div>"
      ],
      "text/plain": [
       "     CityState_x Total Homeless       CityStateYear    CityState_y  Year  \\\n",
       "0  Anchorage, AK            974  Anchorage, AK 2007  Anchorage, AK  2007   \n",
       "1  Anchorage, AK           1023  Anchorage, AK 2008  Anchorage, AK  2008   \n",
       "2  Anchorage, AK           1267  Anchorage, AK 2009  Anchorage, AK  2009   \n",
       "3  Anchorage, AK           1231  Anchorage, AK 2010  Anchorage, AK  2010   \n",
       "4  Anchorage, AK           1223  Anchorage, AK 2011  Anchorage, AK  2011   \n",
       "\n",
       "   ZHVIPerSqft_AllHomes  \n",
       "0            201.333333  \n",
       "1            199.500000  \n",
       "2            185.416667  \n",
       "3            175.333333  \n",
       "4            173.500000  "
      ]
     },
     "execution_count": 7,
     "metadata": {},
     "output_type": "execute_result"
    }
   ],
   "source": [
    "new_df = pd.merge(hud_cities_data, zillowdf, on='CityStateYear', how='outer')\n",
    "#new_df['Year'] = new_df['Year'].astype(str)\n",
    "new_df.head()"
   ]
  },
  {
   "cell_type": "code",
   "execution_count": 8,
   "metadata": {},
   "outputs": [
    {
     "data": {
      "image/png": "[encoded data removed]",
      "text/plain": [
       "<matplotlib.figure.Figure at 0xa9bc9f0>"
      ]
     },
     "metadata": {},
     "output_type": "display_data"
    }
   ],
   "source": [
    "selected_new_df = new_df[new_df.CityState_x == \"San Francisco, CA\"]\n",
    "\n",
    "#ax = selected_new_df[['Year', 'ZHVIPerSqft_AllHomes']].plot(x='Year', linestyle='-', marker='o')\n",
    "#selected_new_df[['Year', 'Total Homeless']].plot(x='Year', kind='bar', ax=ax)\n",
    "\n",
    "fig, ax = plt.subplots()\n",
    "\n",
    "ax2 = ax.twinx()\n",
    "\n",
    "ax.bar(selected_new_df['Year'], selected_new_df[\"Total Homeless\"], color=(190/255,190/255,190/255,0.7), label='Total Homeless')\n",
    "\n",
    "ax2.plot(selected_new_df['Year'], selected_new_df[\"ZHVIPerSqft_AllHomes\"], color='green', label='ZHVIPerSqft_AllHomes')\n",
    "\n",
    "ax.set_xticklabels(selected_new_df['Year'])\n",
    "\n",
    "#ax.legend(loc='best')\n",
    "ax2.legend(loc='best')\n",
    "\n",
    "plt.show()"
   ]
  },
  {
   "cell_type": "code",
   "execution_count": 9,
   "metadata": {
    "scrolled": false
   },
   "outputs": [
    {
     "data": {
      "image/png": "[encoded data removed]",
      "text/plain": [
       "<matplotlib.figure.Figure at 0xa7f2690>"
      ]
     },
     "metadata": {},
     "output_type": "display_data"
    }
   ],
   "source": [
    "selected_new_df = new_df[new_df.CityState_x == \"Los Angeles, CA\"]\n",
    "\n",
    "#ax = selected_new_df[['Year', 'ZHVIPerSqft_AllHomes']].plot(x='Year', linestyle='-', marker='o')\n",
    "#selected_new_df[['Year', 'Total Homeless']].plot(x='Year', kind='bar', ax=ax)\n",
    "\n",
    "fig, ax = plt.subplots()\n",
    "\n",
    "ax2 = ax.twinx()\n",
    "\n",
    "ax.bar(selected_new_df['Year'], selected_new_df[\"Total Homeless\"], color=(190/255,190/255,190/255,0.7), label='Total Homeless')\n",
    "\n",
    "ax2.plot(selected_new_df['Year'], selected_new_df[\"ZHVIPerSqft_AllHomes\"], color='green', label='ZHVIPerSqft_AllHomes')\n",
    "\n",
    "ax.set_xticklabels(selected_new_df['Year'])\n",
    "\n",
    "#ax.legend(loc='best')\n",
    "ax2.legend(loc='best')\n",
    "\n",
    "plt.show()"
   ]
  },
  {
   "cell_type": "code",
   "execution_count": 10,
   "metadata": {},
   "outputs": [
    {
     "data": {
      "image/png": "[encoded data removed]",
      "text/plain": [
       "<matplotlib.figure.Figure at 0xa91bc50>"
      ]
     },
     "metadata": {},
     "output_type": "display_data"
    }
   ],
   "source": [
    "selected_new_df = new_df[new_df.CityState_x == \"New York, NY\"]\n",
    "\n",
    "#ax = selected_new_df[['Year', 'ZHVIPerSqft_AllHomes']].plot(x='Year', linestyle='-', marker='o')\n",
    "#selected_new_df[['Year', 'Total Homeless']].plot(x='Year', kind='bar', ax=ax)\n",
    "\n",
    "fig, ax = plt.subplots()\n",
    "\n",
    "ax2 = ax.twinx()\n",
    "\n",
    "ax.bar(selected_new_df['Year'], selected_new_df[\"Total Homeless\"], color=(190/255,190/255,190/255,0.7), label='Total Homeless')\n",
    "\n",
    "ax2.plot(selected_new_df['Year'], selected_new_df[\"ZHVIPerSqft_AllHomes\"], color='green', label='ZHVIPerSqft_AllHomes')\n",
    "\n",
    "ax.set_xticklabels(selected_new_df['Year'])\n",
    "\n",
    "#ax.legend(loc='best')\n",
    "ax2.legend(loc='best')\n",
    "\n",
    "plt.show()"
   ]
  },
  {
   "cell_type": "code",
   "execution_count": null,
   "metadata": {},
   "outputs": [],
   "source": []
  }
 ],
 "metadata": {
  "kernelspec": {
   "display_name": "Python 3",
   "language": "python",
   "name": "python3"
  },
  "language_info": {
   "codemirror_mode": {
    "name": "ipython",
    "version": 3
   },
   "file_extension": ".py",
   "mimetype": "text/x-python",
   "name": "python",
   "nbconvert_exporter": "python",
   "pygments_lexer": "ipython3",
   "version": "3.6.3"
  }
 },
 "nbformat": 4,
 "nbformat_minor": 2
}
