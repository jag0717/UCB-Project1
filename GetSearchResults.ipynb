{
 "cells": [
  {
   "cell_type": "code",
   "execution_count": 1,
   "metadata": {},
   "outputs": [],
   "source": [
    "# Dependencies\n",
    "import requests as req\n",
    "from xml.etree import ElementTree"
   ]
  },
  {
   "cell_type": "code",
   "execution_count": 2,
   "metadata": {},
   "outputs": [],
   "source": [
    "url = \"http://www.zillow.com/webservice/GetSearchResults.htm?zws-id=\"\n",
    "\n",
    "zwsid = \"X1-ZWz1g5mmlno74b_1pt0f\"\n",
    "\n",
    "address = \"&address=2114+Bigelow+Ave&citystatezip=Seattle%2C+WA\"\n",
    "\n",
    "tree = ElementTree.fromstring(req.get(url+zwsid+address).content)"
   ]
  },
  {
   "cell_type": "code",
   "execution_count": 3,
   "metadata": {},
   "outputs": [
    {
     "data": {
      "text/plain": [
       "{'city': 'Seattle',\n",
       " 'lat': '47.637933',\n",
       " 'lon': '-122.347938',\n",
       " 'state': 'WA',\n",
       " 'street': '2114 Bigelow Ave N',\n",
       " 'zestimate': '2050476',\n",
       " 'zipcode': '98109',\n",
       " 'zpid': '48749425'}"
      ]
     },
     "execution_count": 3,
     "metadata": {},
     "output_type": "execute_result"
    }
   ],
   "source": [
    "zpid = tree[2][0][0][0].text\n",
    "\n",
    "street = tree[2][0][0][2][0].text\n",
    "\n",
    "zipcode = tree[2][0][0][2][1].text\n",
    "\n",
    "city = tree[2][0][0][2][2].text\n",
    "\n",
    "state = tree[2][0][0][2][3].text\n",
    "\n",
    "lat = tree[2][0][0][2][4].text\n",
    "\n",
    "lon = tree[2][0][0][2][5].text\n",
    "\n",
    "zestimate = tree[2][0][0][3][0].text\n",
    "\n",
    "dict = {\"zpid\": zpid,\n",
    "        \"street\": street,\n",
    "        \"zipcode\": zipcode,\n",
    "        \"city\": city,\n",
    "        \"state\": state,\n",
    "        \"lat\": lat,\n",
    "        \"lon\": lon,\n",
    "        \"zestimate\": zestimate\n",
    "       }\n",
    "dict"
   ]
  },
  {
   "cell_type": "code",
   "execution_count": null,
   "metadata": {},
   "outputs": [],
   "source": []
  }
 ],
 "metadata": {
  "kernelspec": {
   "display_name": "Python 3",
   "language": "python",
   "name": "python3"
  },
  "language_info": {
   "codemirror_mode": {
    "name": "ipython",
    "version": 3
   },
   "file_extension": ".py",
   "mimetype": "text/x-python",
   "name": "python",
   "nbconvert_exporter": "python",
   "pygments_lexer": "ipython3",
   "version": "3.6.3"
  }
 },
 "nbformat": 4,
 "nbformat_minor": 2
}
